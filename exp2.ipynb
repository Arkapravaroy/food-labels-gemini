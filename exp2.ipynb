{
 "cells": [
  {
   "cell_type": "code",
   "execution_count": 30,
   "metadata": {},
   "outputs": [],
   "source": [
    "import numpy as np\n",
    "def has_single_root_parent(text_contours, hierarchy):\n",
    "    i, _, _, parent = hierarchy[text_contours.tolist().index(text_contours[0])]  # Get hierarchy for the first point of the contour\n",
    "    return parent != -1 and np.count_nonzero(hierarchy[:, 3] == parent) == 1  # Check parent exists and has only one child\n",
    "\n",
    "# Example usage\n"
   ]
  },
  {
   "cell_type": "code",
   "execution_count": 10,
   "metadata": {},
   "outputs": [
    {
     "name": "stdout",
     "output_type": "stream",
     "text": [
      "length of couters 10921\n",
      "length of text contours:  10921\n",
      "(1, 10921, 4)\n",
      "comparing 1000 to 151 and 749 to 263\n",
      "comparing 1000 to 146 and 749 to 259\n",
      "comparing 1000 to 144 and 749 to 256\n",
      "comparing 1000 to 104 and 749 to 148\n",
      "comparing 1000 to 224 and 749 to 243\n",
      "comparing 1000 to 925 and 749 to 343\n",
      "comparing 1000 to 266 and 749 to 237\n",
      "comparing 1000 to 256 and 749 to 229\n",
      "comparing 1000 to 192 and 749 to 211\n",
      "comparing 1000 to 184 and 749 to 200\n",
      "comparing 1000 to 105 and 749 to 113\n",
      "comparing 1000 to 941 and 749 to 446\n",
      "Cropped images saved as ingredients.jpg and macronutrients.jpg (if found)\n"
     ]
    }
   ],
   "source": [
    "import cv2\n",
    "\n",
    "def crop_chips_info(image_path):\n",
    "  # Read the image\n",
    "  image = cv2.imread(image_path)\n",
    "\n",
    "  # Convert image to grayscale for better processing\n",
    "  gray = cv2.cvtColor(image, cv2.COLOR_BGR2GRAY)\n",
    "  thresh = cv2.adaptiveThreshold(gray,255,cv2.ADAPTIVE_THRESH_GAUSSIAN_C,cv2.THRESH_BINARY,5,0)\n",
    "  # Try to find contours in the image\n",
    "  text_contours, hierarchy = cv2.findContours(thresh, cv2.RETR_TREE, cv2.CHAIN_APPROX_NONE)\n",
    "  print('length of couters', len(text_contours))\n",
    "\n",
    "  # # # Assuming the largest contour corresponds to the chips packet\n",
    "  if len(text_contours) > 0:\n",
    "        \n",
    "    largest_contour = max(text_contours, key=cv2.contourArea)\n",
    "\n",
    "  #   # # Get bounding rectangle of the largest contour\n",
    "    x, y, w, h = cv2.boundingRect(largest_contour)\n",
    "\n",
    "  #   # # Crop the image based on the bounding rectangle\n",
    "    cropped_image = image[y:y+h, x:x+w]\n",
    "\n",
    "  #   # Try to isolate the text area by thresholding\n",
    "  #   thresh = cv2.threshold(gray, 127, 255, cv2.THRESH_BINARY)[1]\n",
    "    \n",
    "\n",
    "  #   # Find contours again, assuming text areas will have high intensity pixels\n",
    "  #   text_contours, hierarchy  = cv2.findContours(thresh, cv2.RETR_TREE, cv2.CHAIN_APPROX_SIMPLE)\n",
    "    xl, yl, wl, hl = cv2.boundingRect(largest_contour)\n",
    "\n",
    "    print(\"length of text contours: \", len(text_contours))\n",
    "    print(hierarchy.shape)\n",
    "    for i, cnt in enumerate(text_contours):\n",
    "        # print(cnt.shape)\n",
    "      # print(len(text_contours))\n",
    "      # print(hierarchy.shape)\n",
    "      parents = hierarchy[0,i,3]\n",
    "      \n",
    "      # print(parents)\n",
    "      # print(\"*\"*20)\n",
    "      if parents!=-1:\n",
    "            # grandparents = hierarchy[0,parents,3]\n",
    "            # if grandparents == -1:\n",
    "        x, y, w, h = cv2.boundingRect(cnt)\n",
    "        \n",
    "        if h>= hl//10 and w>= wl//10:\n",
    "              print(\"comparing\",hl ,'to', h, 'and', wl,'to',w)\n",
    "              cv2.imwrite(f\"counters\\img{i}.jpg\",cropped_image[y:y+h, x:x+w])\n",
    "                  \n",
    "      # for parent in parents:\n",
    "      #     # prev2,next2,present,grandparent = hierarchy[parent][0],hierarchy[parent][0],hierarchy[parent][0],hierarchy[parent][0]\n",
    "      #       if parent == -1 :\n",
    "      #           grandparent = hierarchy[]\n",
    "      #           if grandparent == -1:\n",
    "      #             x, y, w, h = cv2.boundingRect(cnt)\n",
    "      #             cv2.imwrite(f\"counters\\img{i}.jpg\",cropped_image[y:y+h, x:x+w])\n",
    "            \n",
    "            \n",
    "    # Loop through contours to isolate ingredients and macronutrients sections\n",
    "    # i = 0\n",
    "    # for contour in contours:\n",
    "      \n",
    "    #   x, y, w, h = cv2.boundingRect(contour)\n",
    "    #   cv2.imwrite(f\"counters\\img{i}.jpg\",cropped_image[y:y+h, x:x+w])\n",
    "\n",
    "    #   # Assuming ingredients section is at the top and macronutrients at the bottom\n",
    "    #   if y < h // 2:\n",
    "    #     ingredients_crop = cropped_image[y:y+h, x:x+w]\n",
    "    #     cv2.imwrite(\"ingredients.jpg\", ingredients_crop)\n",
    "\n",
    "    #   elif y > h // 2:\n",
    "    #     macronutrients_crop = cropped_image[y:y+h, x:x+w]\n",
    "        # cv2.imwrite(\"macronutrients.jpg\", macronutrients_crop)\n",
    "\n",
    "#   else:\n",
    "#     print(\"No contours found in the image\")\n",
    "\n",
    "# # Example usage\n",
    "image_path = r\"C:\\Users\\hp\\Desktop\\githubrepo\\food-labels-gemini\\images\\lays.jpg\"\n",
    "crop_chips_info(image_path)\n",
    "\n",
    "print(\"Cropped images saved as ingredients.jpg and macronutrients.jpg (if found)\")\n"
   ]
  },
  {
   "cell_type": "code",
   "execution_count": 29,
   "metadata": {},
   "outputs": [],
   "source": []
  },
  {
   "cell_type": "code",
   "execution_count": null,
   "metadata": {},
   "outputs": [],
   "source": []
  },
  {
   "cell_type": "code",
   "execution_count": 4,
   "metadata": {},
   "outputs": [
    {
     "name": "stdout",
     "output_type": "stream",
     "text": [
      "Collecting opencv-pythonNote: you may need to restart the kernel to use updated packages.\n",
      "\n",
      "  Obtaining dependency information for opencv-python from https://files.pythonhosted.org/packages/c7/ec/9dabb6a9abfdebb3c45b0cc52dec901caafef2b2c7e7d6a839ed86d81e91/opencv_python-4.9.0.80-cp37-abi3-win_amd64.whl.metadata\n",
      "  Downloading opencv_python-4.9.0.80-cp37-abi3-win_amd64.whl.metadata (20 kB)\n",
      "Requirement already satisfied: numpy>=1.21.2 in c:\\users\\hp\\anaconda3\\lib\\site-packages (from opencv-python) (1.24.3)\n",
      "Using cached opencv_python-4.9.0.80-cp37-abi3-win_amd64.whl (38.6 MB)\n",
      "Installing collected packages: opencv-python\n",
      "Successfully installed opencv-python-4.9.0.80\n"
     ]
    }
   ],
   "source": [
    "pip install opencv-python\n"
   ]
  }
 ],
 "metadata": {
  "kernelspec": {
   "display_name": "base",
   "language": "python",
   "name": "python3"
  },
  "language_info": {
   "codemirror_mode": {
    "name": "ipython",
    "version": 3
   },
   "file_extension": ".py",
   "mimetype": "text/x-python",
   "name": "python",
   "nbconvert_exporter": "python",
   "pygments_lexer": "ipython3",
   "version": "3.11.5"
  }
 },
 "nbformat": 4,
 "nbformat_minor": 2
}
