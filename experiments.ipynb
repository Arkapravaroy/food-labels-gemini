{
 "cells": [
  {
   "cell_type": "code",
   "execution_count": 1,
   "metadata": {},
   "outputs": [
    {
     "name": "stderr",
     "output_type": "stream",
     "text": [
      "/home/ishan/Desktop/Python/llms-app/food-labels-gemini/.venv/lib/python3.10/site-packages/tqdm/auto.py:21: TqdmWarning: IProgress not found. Please update jupyter and ipywidgets. See https://ipywidgets.readthedocs.io/en/stable/user_install.html\n",
      "  from .autonotebook import tqdm as notebook_tqdm\n"
     ]
    },
    {
     "data": {
      "text/plain": [
       "True"
      ]
     },
     "execution_count": 1,
     "metadata": {},
     "output_type": "execute_result"
    }
   ],
   "source": [
    "from dotenv import load_dotenv\n",
    "from langchain_core.messages import HumanMessage\n",
    "from langchain_google_genai import ChatGoogleGenerativeAI\n",
    "from PIL import Image, ImageOps\n",
    "\n",
    "load_dotenv()"
   ]
  },
  {
   "cell_type": "code",
   "execution_count": 2,
   "metadata": {},
   "outputs": [],
   "source": [
    "# Open the image file\n",
    "file = Image.open(\"images/lays_cropped.jpg\")\n",
    "image1 = ImageOps.grayscale(file)\n",
    "image1.show()\n",
    "\n",
    "\n",
    "file2 = Image.open(\"images/lays_magic.jpg\")\n",
    "image2 = ImageOps.grayscale(file2)\n",
    "image2.show()"
   ]
  },
  {
   "cell_type": "code",
   "execution_count": 12,
   "metadata": {},
   "outputs": [
    {
     "name": "stdout",
     "output_type": "stream",
     "text": [
      "Parse the nutritional information and the list of ingredients of the product shown in the image. \n",
      "\n",
      "Use the nutritional information/nutritional fact label to identify the quantity of the following items:\n",
      "Calories/Energy, Total Fat, Saturated Fat, Trans Fat, Cholesterol, Sodium, Total Carbohydrates, Dietary Fiber, Sugars, Protein, Vitamin A, Vitamin C, Calcium, and Iron.        \n",
      "If the item is not present in the image, please mention that the item is not present in the image.\n",
      "\n",
      "The output should contain only the nutritional information and the list of ingredients that is present on the product shown in the image. \n",
      "The output should be in a JSON format populated ONLY with the information that is available in the image. Make sure the JSON is valid and\n",
      "do not add any additional information that is not present in the image.\n",
      "\n",
      "Example of the output format:\n",
      "{\n",
      "    Nutritional information: {},\n",
      "    Ingredients: ['items1', 'item2', 'item3']\n",
      "}\n",
      "\n"
     ]
    }
   ],
   "source": [
    "# Open the file in read mode\n",
    "with open(\"src/prompts/label_prompt.txt\", \"r\") as f:\n",
    "    # Read the contents of the file\n",
    "    file_contents = f.read()\n",
    "\n",
    "\n",
    "print(file_contents)\n",
    "\n",
    "prompt = file_contents"
   ]
  },
  {
   "cell_type": "code",
   "execution_count": 9,
   "metadata": {},
   "outputs": [],
   "source": [
    "from langchain_core.messages import HumanMessage\n",
    "from langchain_google_genai import ChatGoogleGenerativeAI\n",
    "\n",
    "llm = ChatGoogleGenerativeAI(model=\"gemini-pro-vision\")\n",
    "# example\n",
    "message = HumanMessage(\n",
    "    content=[\n",
    "        {\n",
    "            \"type\": \"text\",\n",
    "            \"text\": prompt,\n",
    "        },\n",
    "        {\"type\": \"image_url\", \"image_url\": image1},\n",
    "    ]\n",
    ")\n",
    "\n",
    "response = llm.invoke([message])"
   ]
  },
  {
   "cell_type": "code",
   "execution_count": 10,
   "metadata": {},
   "outputs": [
    {
     "name": "stdout",
     "output_type": "stream",
     "text": [
      " ```json\n",
      "{\n",
      " \"Nutritional information\": {\n",
      "  \"Energy\": \"537 kCal\",\n",
      "  \"Total Fat\": \"33.1 g\",\n",
      "  \"Saturated Fat\": \"12.5 g\",\n",
      "  \"Trans Fat\": \"Not Present\",\n",
      "  \"Cholesterol\": \"Not Present\",\n",
      "  \"Sodium\": \"993 mg\",\n",
      "  \"Total Carbohydrates\": \"52.9 g\",\n",
      "  \"Dietary Fiber\": \"Not Present\",\n",
      "  \"Sugars\": \"0.2 g\",\n",
      "  \"Protein\": \"6.9 g\",\n",
      "  \"Vitamin A\": \"Not Present\",\n",
      "  \"Vitamin C\": \"Not Present\",\n",
      "  \"Calcium\": \"Not Present\",\n",
      "  \"Iron\": \"Not Present\"\n",
      " },\n",
      " \"Ingredients\": [\n",
      "  \"Potatoes\",\n",
      "  \"Rice Bran Oil\",\n",
      "  \"Potato Starch\",\n",
      "  \"Edible Vegetable Oils\",\n",
      "  \"Palm oil\",\n",
      "  \"Iodised Salt\",\n",
      "  \"Seasoning\",\n",
      "  \"Spices & Condiments\",\n",
      "  \"Flavouring Substances\",\n",
      "  \"Black Salt\",\n",
      "  \"Sugar\",\n",
      "  \"Tomato Powder\",\n",
      "  \"Maltodextrin\",\n",
      "  \"Acidity Regulators\",\n",
      "  \"Anticaking Agent\",\n",
      "  \"Colours\",\n",
      "  \"Garlic\"\n",
      " ]\n",
      "}\n",
      "```\n"
     ]
    }
   ],
   "source": [
    "generated_text = response.content\n",
    "print(generated_text)"
   ]
  },
  {
   "cell_type": "code",
   "execution_count": null,
   "metadata": {},
   "outputs": [],
   "source": []
  },
  {
   "cell_type": "code",
   "execution_count": null,
   "metadata": {},
   "outputs": [],
   "source": []
  }
 ],
 "metadata": {
  "kernelspec": {
   "display_name": ".venv",
   "language": "python",
   "name": "python3"
  },
  "language_info": {
   "codemirror_mode": {
    "name": "ipython",
    "version": 3
   },
   "file_extension": ".py",
   "mimetype": "text/x-python",
   "name": "python",
   "nbconvert_exporter": "python",
   "pygments_lexer": "ipython3",
   "version": "3.10.12"
  }
 },
 "nbformat": 4,
 "nbformat_minor": 2
}
