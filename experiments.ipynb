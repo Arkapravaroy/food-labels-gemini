{
 "cells": [
  {
   "cell_type": "code",
   "execution_count": 1,
   "metadata": {},
   "outputs": [
    {
     "name": "stderr",
     "output_type": "stream",
     "text": [
      "/home/ishan/Desktop/Python/llms-app/food-labels-gemini/.venv/lib/python3.10/site-packages/tqdm/auto.py:21: TqdmWarning: IProgress not found. Please update jupyter and ipywidgets. See https://ipywidgets.readthedocs.io/en/stable/user_install.html\n",
      "  from .autonotebook import tqdm as notebook_tqdm\n"
     ]
    },
    {
     "data": {
      "text/plain": [
       "True"
      ]
     },
     "execution_count": 1,
     "metadata": {},
     "output_type": "execute_result"
    }
   ],
   "source": [
    "# Import the python modules\n",
    "from dotenv import load_dotenv\n",
    "from PIL import Image, ImageOps\n",
    "\n",
    "from langchain_google_genai import ChatGoogleGenerativeAI\n",
    "from langchain_google_genai import GoogleGenerativeAIEmbeddings\n",
    "from langchain_community.document_loaders import PyPDFLoader\n",
    "from langchain.chains.combine_documents import create_stuff_documents_chain\n",
    "from langchain.vectorstores import Chroma\n",
    "from langchain_core.messages import HumanMessage, SystemMessage\n",
    "from langchain.prompts.prompt import PromptTemplate\n",
    "from langchain.chains import ConversationalRetrievalChain, LLMChain\n",
    "from langchain.chains.qa_with_sources import load_qa_with_sources_chain\n",
    "\n",
    "from unstructured_client import UnstructuredClient\n",
    "from unstructured_client.models import shared\n",
    "from unstructured_client.models.errors import SDKError\n",
    "\n",
    "from unstructured.chunking.title import chunk_by_title\n",
    "from unstructured.staging.base import dict_to_elements\n",
    "\n",
    "import chromadb\n",
    "\n",
    "load_dotenv()"
   ]
  },
  {
   "cell_type": "code",
   "execution_count": 14,
   "metadata": {},
   "outputs": [],
   "source": [
    "# Open the image file\n",
    "file = Image.open(\"images/lays.jpg\")\n",
    "image1 = ImageOps.grayscale(file)\n",
    "image1.show()\n",
    "\n",
    "\n",
    "file2 = Image.open(\"images/cadbury.jpg\")\n",
    "image2 = ImageOps.grayscale(file2)\n",
    "image2.show()\n",
    "\n",
    "file3 = Image.open(\"images/lays_magic.jpg\")\n",
    "image3 = ImageOps.grayscale(file3)\n",
    "image3.show()\n"
   ]
  },
  {
   "cell_type": "code",
   "execution_count": 15,
   "metadata": {},
   "outputs": [
    {
     "name": "stdout",
     "output_type": "stream",
     "text": [
      "Parse the nutritional information and the list of ingredients of the product shown in the image. \n",
      "\n",
      "Use the nutritional information/nutritional fact label to identify the quantity of the following items:\n",
      "Calories/Energy, Total Fat, Saturated Fat, Trans Fat, Cholesterol, Sodium, Total Carbohydrates, Dietary Fiber, Sugars, Protein, Vitamin A, Vitamin C, Calcium, and Iron.        \n",
      "If the item is not present in the image, please mention that the item is not present in the image.\n",
      "\n",
      "The output should contain only the nutritional information and the list of ingredients that is present on the product shown in the image. \n",
      "The output should be in a JSON format populated ONLY with the information that is available in the image. Make sure the JSON is valid and\n",
      "do not add any additional information that is not present in the image.\n",
      "\n",
      "Example of the output format:\n",
      "{\n",
      "    Nutritional information: {},\n",
      "    Ingredients: ['items1', 'item2', 'item3']\n",
      "}\n",
      "\n"
     ]
    }
   ],
   "source": [
    "# Open the file in read mode\n",
    "with open(\"src/prompts/label_prompt.txt\", \"r\") as f:\n",
    "    # Read the contents of the file\n",
    "    file_contents = f.read()\n",
    "\n",
    "\n",
    "print(file_contents)\n",
    "\n",
    "label_extraction_prompt = file_contents"
   ]
  },
  {
   "cell_type": "markdown",
   "metadata": {},
   "source": [
    "## Zero Shot Food Label Info Extraction"
   ]
  },
  {
   "cell_type": "code",
   "execution_count": 16,
   "metadata": {},
   "outputs": [],
   "source": [
    "llm = ChatGoogleGenerativeAI(model=\"gemini-pro-vision\")\n",
    "\n",
    "# example\n",
    "message = HumanMessage(\n",
    "    content=[\n",
    "        {\n",
    "            \"type\": \"text\", # Text part of the prompt\n",
    "            \"text\": label_extraction_prompt,\n",
    "        },\n",
    "        {\"type\": \"image_url\", \"image_url\": image2}, # image part of the prompt\n",
    "    ]\n",
    ")\n",
    "\n",
    "response = llm.invoke([message])"
   ]
  },
  {
   "cell_type": "code",
   "execution_count": 17,
   "metadata": {},
   "outputs": [
    {
     "name": "stdout",
     "output_type": "stream",
     "text": [
      " ```json\n",
      "{\n",
      "  \"Nutritional information\": {\n",
      "    \"Energy\": \"654 kCal\",\n",
      "    \"Total Fat\": \"8.9 g\",\n",
      "    \"Saturated Fat\": \"5.3 g\",\n",
      "    \"Trans Fat\": \"Not Present\",\n",
      "    \"Cholesterol\": \"Not Present\",\n",
      "    \"Sodium\": \"0.07 g\",\n",
      "    \"Total Carbohydrates\": \"17 g\",\n",
      "    \"Dietary Fiber\": \"0.6 g\",\n",
      "    \"Sugars\": \"16 g\",\n",
      "    \"Protein\": \"2.1 g\",\n",
      "    \"Vitamin A\": \"Not Present\",\n",
      "    \"Vitamin C\": \"Not Present\",\n",
      "    \"Calcium\": \"Not Present\",\n",
      "    \"Iron\": \"Not Present\"\n",
      "  },\n",
      "  \"Ingredients\": [\n",
      "    \"Not Present\"\n",
      "  ]\n",
      "}\n",
      "```\n"
     ]
    }
   ],
   "source": [
    "generated_text = response.content\n",
    "print(generated_text)"
   ]
  },
  {
   "cell_type": "markdown",
   "metadata": {},
   "source": [
    "## Few Shot Prompt "
   ]
  },
  {
   "cell_type": "code",
   "execution_count": 18,
   "metadata": {},
   "outputs": [
    {
     "name": "stdout",
     "output_type": "stream",
     "text": [
      "nutritional information per 100 g: \n",
      "            {\n",
      "                \"Energy\": \"537 kCal\",\n",
      "                \"Macronutrients\": { \n",
      "                    \"Protein\": \"6.9 g\",\n",
      "                    \"Carbohydrates\": { \n",
      "                        \"Total\": \"52.9 g\",\n",
      "                        \"of which Sugars\": \"2.5 g\",\n",
      "                        },\n",
      "                    \"Dietary Fiber\": \"Not Present\",\n",
      "                    \"Total Fat\": {\n",
      "                        \"Total\": \"33.1 g\",\n",
      "                        \"Saturated Fat\": \"12.5 g\",\n",
      "                        \"Trans Fat\": \"0.1 g\",\n",
      "                        },\n",
      "                    \"Linoleic Acid\": \"Not Present\",\n",
      "                    \"Linolenic acid\": \"Not Present\"\n",
      "                },\n",
      "                \"Minerals\": { \n",
      "                    \"Calcium\": \"Not Present\",\n",
      "                    \"Iron\": \"Not Present\",\n",
      "                    \"Magnesium\": \"Not Present\",\n",
      "                    \"Phosphorus\": \"Not Present\",\n",
      "                    \"Potassium\": \"Not Present\",\n",
      "                    \"Sodium\": \"993 mg\",\n",
      "                    \"Zinc\": \"Not Present\",\n",
      "                    \"Cooper\": \"Not Present\",\n",
      "                    \"Manganese\": \"Not Present\",\n",
      "                    \"Selenium\": \"Not Present\"\n",
      "                },\n",
      "                \"Vitamins\": {                \n",
      "                    \"Vitamin A\": \"Not Present\",\n",
      "                    \"Vitamic E\": \"Not Present\",\n",
      "                    \"Vitamin D\": \"Not Present\",\n",
      "                    \"Vitamin C\": \"Not Present\",\n",
      "                    \"Thiamin\": \"Not Present\",\n",
      "                    \"Riboflavin\": \"Not Present\",\n",
      "                    \"Niacin\": \"Not Present\",\n",
      "                    \"Vitamin B6\": \"Not Present\",\n",
      "                    \"Vitamin B12\": \"Not Present\",\n",
      "                    \"Choline\": \"Not Present\",\n",
      "                    \"Vitamin K\": \"Not Present\",\n",
      "                    \"Folate\": \"Not Present\",              \n",
      "            }\n"
     ]
    }
   ],
   "source": [
    "prompt1 = \"\"\"nutritional information per 100 g: \n",
    "            {\n",
    "                \"Energy\": \"537 kCal\",\n",
    "                \"Macronutrients\": { \n",
    "                    \"Protein\": \"6.9 g\",\n",
    "                    \"Carbohydrates\": { \n",
    "                        \"Total\": \"52.9 g\",\n",
    "                        \"of which Sugars\": \"2.5 g\",\n",
    "                        },\n",
    "                    \"Dietary Fiber\": \"Not Present\",\n",
    "                    \"Total Fat\": {\n",
    "                        \"Total\": \"33.1 g\",\n",
    "                        \"Saturated Fat\": \"12.5 g\",\n",
    "                        \"Trans Fat\": \"0.1 g\",\n",
    "                        },\n",
    "                    \"Linoleic Acid\": \"Not Present\",\n",
    "                    \"Linolenic acid\": \"Not Present\"\n",
    "                },\n",
    "                \"Minerals\": { \n",
    "                    \"Calcium\": \"Not Present\",\n",
    "                    \"Iron\": \"Not Present\",\n",
    "                    \"Magnesium\": \"Not Present\",\n",
    "                    \"Phosphorus\": \"Not Present\",\n",
    "                    \"Potassium\": \"Not Present\",\n",
    "                    \"Sodium\": \"993 mg\",\n",
    "                    \"Zinc\": \"Not Present\",\n",
    "                    \"Cooper\": \"Not Present\",\n",
    "                    \"Manganese\": \"Not Present\",\n",
    "                    \"Selenium\": \"Not Present\"\n",
    "                },\n",
    "                \"Vitamins\": {                \n",
    "                    \"Vitamin A\": \"Not Present\",\n",
    "                    \"Vitamic E\": \"Not Present\",\n",
    "                    \"Vitamin D\": \"Not Present\",\n",
    "                    \"Vitamin C\": \"Not Present\",\n",
    "                    \"Thiamin\": \"Not Present\",\n",
    "                    \"Riboflavin\": \"Not Present\",\n",
    "                    \"Niacin\": \"Not Present\",\n",
    "                    \"Vitamin B6\": \"Not Present\",\n",
    "                    \"Vitamin B12\": \"Not Present\",\n",
    "                    \"Choline\": \"Not Present\",\n",
    "                    \"Vitamin K\": \"Not Present\",\n",
    "                    \"Folate\": \"Not Present\",              \n",
    "            }\"\"\"\n",
    "\n",
    "print(prompt1)"
   ]
  },
  {
   "cell_type": "code",
   "execution_count": 19,
   "metadata": {},
   "outputs": [],
   "source": [
    "prompt2 = \"\"\"nutritional information per 100 g: \n",
    "            {\n",
    "                \"Energy\": \"534 kCal\",\n",
    "                \"Macronutrients\": { \n",
    "                    \"Protein\": \"7.3 g\",\n",
    "                    \"Carbohydrates\": {\n",
    "                        \"Total\": \"57 g\",\n",
    "                        \"of which Sugars\": \"56 g\",\n",
    "                        },\n",
    "                    },\n",
    "                    \"Dietary Fiber\": \"2.1 g\",\n",
    "                    \"Total Fat\": {\n",
    "                        \"Total\": \"30 g\",\n",
    "                        \"Saturated Fat\": \"18 g\",\n",
    "                        \"Trans Fat\": \"Not Present\",\n",
    "                    },\n",
    "                    \"Linoleic Acid\": \"Not Present\",\n",
    "                    \"Linolenic acid\": \"Not Present\"\n",
    "                },\n",
    "                \"Minerals\": { \n",
    "                    \"Calcium\": \"Not Present\",\n",
    "                    \"Iron\": \"Not Present\",\n",
    "                    \"Magnesium\": \"Not Present\",\n",
    "                    \"Phosphorus\": \"Not Present\",\n",
    "                    \"Potassium\": \"Not Present\",\n",
    "                    \"Sodium\": \"240 mg\",\n",
    "                    \"Zinc\": \"Not Present\",\n",
    "                    \"Cooper\": \"Not Present\",\n",
    "                    \"Manganese\": \"Not Present\",\n",
    "                    \"Selenium\": \"Not Present\"\n",
    "                },\n",
    "                \"Vitamins\": {                \n",
    "                    \"Vitamin A\": \"Not Present\",\n",
    "                    \"Vitamic E\": \"Not Present\",\n",
    "                    \"Vitamin D\": \"Not Present\",\n",
    "                    \"Vitamin C\": \"Not Present\",\n",
    "                    \"Thiamin\": \"Not Present\",\n",
    "                    \"Riboflavin\": \"Not Present\",\n",
    "                    \"Niacin\": \"Not Present\",\n",
    "                    \"Vitamin B6\": \"Not Present\",\n",
    "                    \"Vitamin B12\": \"Not Present\",\n",
    "                    \"Choline\": \"Not Present\",\n",
    "                    \"Vitamin K\": \"Not Present\",\n",
    "                    \"Folate\": \"Not Present\",              \n",
    "            }\"\"\""
   ]
  },
  {
   "cell_type": "code",
   "execution_count": 20,
   "metadata": {},
   "outputs": [],
   "source": [
    "image_message1 = {\n",
    "    \"type\": \"image_url\",\n",
    "    \"image_url\": image1\n",
    "}\n",
    "\n",
    "image_message2 = {\n",
    "    \"type\": \"image_url\",\n",
    "    \"image_url\": image2\n",
    "}\n",
    "\n",
    "image_message3 = {\n",
    "    \"type\": \"image_url\",\n",
    "    \"image_url\": image3\n",
    "}\n",
    "\n",
    "# prompt2 = \"\"\"Parse the nurtitional information from the food label image.\"\"\"\n",
    "\n",
    "message = HumanMessage(content=[image_message1, prompt1, image_message2, prompt2, image_message3])"
   ]
  },
  {
   "cell_type": "code",
   "execution_count": 21,
   "metadata": {},
   "outputs": [
    {
     "name": "stdout",
     "output_type": "stream",
     "text": [
      " nutritional information per 100 g: \n",
      "            {\n",
      "                \"Energy\": \"547 kCal\",\n",
      "                \"Macronutrients\": { \n",
      "                    \"Protein\": \"9 g\",\n",
      "                    \"Carbohydrates\": { \n",
      "                        \"Total\": \"47.6 g\",\n",
      "                        \"of which Sugars\": \"4.1 g\",\n",
      "                        },\n",
      "                    \"Dietary Fiber\": \"9 g\",\n",
      "                    \"Total Fat\": {\n",
      "                        \"Total\": \"35.7 g\",\n",
      "                        \"Saturated Fat\": \"14.1 g\",\n",
      "                        \"Trans Fat\": \"0.1 g\",\n",
      "                        },\n",
      "                    \"Linoleic Acid\": \"Not Present\",\n",
      "                    \"Linolenic acid\": \"Not Present\"\n",
      "                },\n",
      "                \"Minerals\": { \n",
      "                    \"Calcium\": \"Not Present\",\n",
      "                    \"Iron\": \"Not Present\",\n",
      "                    \"Magnesium\": \"Not Present\",\n",
      "                    \"Phosphorus\": \"Not Present\",\n",
      "                    \"Potassium\": \"Not Present\",\n",
      "                    \"Sodium\": \"942 mg\",\n",
      "                    \"Zinc\": \"Not Present\",\n",
      "                    \"Cooper\": \"Not Present\",\n",
      "                    \"Manganese\": \"Not Present\",\n",
      "                    \"Selenium\": \"Not Present\"\n",
      "                },\n",
      "                \"Vitamins\": {                \n",
      "                    \"Vitamin A\": \"Not Present\",\n",
      "                    \"Vitamic E\": \"Not Present\",\n",
      "                    \"Vitamin D\": \"Not Present\",\n",
      "                    \"Vitamin C\": \"Not Present\",\n",
      "                    \"Thiamin\": \"Not Present\",\n",
      "                    \"Riboflavin\": \"Not Present\",\n",
      "                    \"Niacin\": \"Not Present\",\n",
      "                    \"Vitamin B6\": \"Not Present\",\n",
      "                    \"Vitamin B12\": \"Not Present\",\n",
      "                    \"Choline\": \"Not Present\",\n",
      "                    \"Vitamin K\": \"Not Present\",\n",
      "                    \"Folate\": \"Not Present\",              \n",
      "            }\n"
     ]
    }
   ],
   "source": [
    "response = llm.invoke([message])\n",
    "print(response.content)"
   ]
  },
  {
   "cell_type": "markdown",
   "metadata": {},
   "source": [
    "## RAG based Retrieval"
   ]
  },
  {
   "cell_type": "code",
   "execution_count": 41,
   "metadata": {},
   "outputs": [],
   "source": [
    "#Load the models\n",
    "llm = ChatGoogleGenerativeAI(model=\"gemini-pro\")\n",
    "embeddings = GoogleGenerativeAIEmbeddings(model=\"models/embedding-001\", task_type=\"retrieval_document\")"
   ]
  },
  {
   "cell_type": "markdown",
   "metadata": {},
   "source": [
    "### Process the pdf file"
   ]
  },
  {
   "cell_type": "code",
   "execution_count": null,
   "metadata": {},
   "outputs": [],
   "source": [
    "# Setup the Unstructured Client\n",
    "s = UnstructuredClient(\n",
    "    api_key_auth=DLAI_API_KEY,\n",
    "    server_url=DLAI_API_URL,\n",
    ")"
   ]
  },
  {
   "cell_type": "code",
   "execution_count": null,
   "metadata": {},
   "outputs": [],
   "source": [
    "filename = \"example_files/nutritional_tables_info.pdf\"\n",
    "\n",
    "with open(filename, \"rb\") as f:\n",
    "    files=shared.Files(\n",
    "        content=f.read(),\n",
    "        file_name=filename,\n",
    "    )\n",
    "\n",
    "req = shared.PartitionParameters(\n",
    "    files=files,\n",
    "    strategy=\"hi_res\",\n",
    "    hi_res_model_name=\"yolox\",\n",
    "    pdf_infer_table_structure=True,\n",
    "    skip_infer_table_types=[],\n",
    ")\n",
    "\n",
    "try:\n",
    "    resp = s.general.partition(req)\n",
    "    pdf_elements = dict_to_elements(resp.elements)\n",
    "except SDKError as e:\n",
    "    print(e)"
   ]
  },
  {
   "cell_type": "code",
   "execution_count": null,
   "metadata": {},
   "outputs": [],
   "source": [
    "for pdf_el in pdf_elements:\n",
    "    print(pdf_el.to_dict())"
   ]
  },
  {
   "cell_type": "code",
   "execution_count": null,
   "metadata": {},
   "outputs": [],
   "source": [
    "elements = chunk_by_title(pdf_elements)"
   ]
  },
  {
   "cell_type": "code",
   "execution_count": null,
   "metadata": {},
   "outputs": [],
   "source": [
    "documents = []\n",
    "for element in elements:\n",
    "    metadata = element.metadata.to_dict()\n",
    "    del metadata[\"languages\"]\n",
    "    metadata[\"source\"] = metadata[\"filename\"]\n",
    "    documents.append(Document(page_content=element.text, metadata=metadata))"
   ]
  },
  {
   "cell_type": "code",
   "execution_count": null,
   "metadata": {},
   "outputs": [],
   "source": [
    "vectorstore = Chroma.from_documents(documents, embeddings)"
   ]
  },
  {
   "cell_type": "code",
   "execution_count": null,
   "metadata": {},
   "outputs": [],
   "source": [
    "retriever = vectorstore.as_retriever(\n",
    "    search_type=\"similarity\",\n",
    "    search_kwargs={\"k\": 2}\n",
    ")"
   ]
  },
  {
   "cell_type": "code",
   "execution_count": null,
   "metadata": {},
   "outputs": [],
   "source": [
    "from langchain_core.output_parsers import StrOutputParser\n",
    "from langchain_core.runnables import RunnablePassthrough\n",
    "from langchain import hub\n",
    "\n",
    "prompt = hub.pull(\"rlm/rag-prompt\")\n",
    "\n",
    "def format_docs(docs):\n",
    "    return \"\\n\\n\".join(doc.page_content for doc in docs)\n",
    "\n",
    "rag_chain = (\n",
    "    {\"context\": retriever | format_docs, \"question\": RunnablePassthrough()}\n",
    "    | prompt\n",
    "    | llm\n",
    "    | StrOutputParser()\n",
    ")"
   ]
  },
  {
   "cell_type": "code",
   "execution_count": null,
   "metadata": {},
   "outputs": [],
   "source": [
    "rag_chain.invoke({\n",
    "    \"question\": \"What are the macronutrient requirements for a male in the age group between 14-18?\",\n",
    "    \"chat_history\": []\n",
    "})[\"answer\"]"
   ]
  }
 ],
 "metadata": {
  "kernelspec": {
   "display_name": ".venv",
   "language": "python",
   "name": "python3"
  },
  "language_info": {
   "codemirror_mode": {
    "name": "ipython",
    "version": 3
   },
   "file_extension": ".py",
   "mimetype": "text/x-python",
   "name": "python",
   "nbconvert_exporter": "python",
   "pygments_lexer": "ipython3",
   "version": "3.10.12"
  }
 },
 "nbformat": 4,
 "nbformat_minor": 2
}
