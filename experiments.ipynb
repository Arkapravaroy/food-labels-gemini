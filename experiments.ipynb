{
 "cells": [
  {
   "cell_type": "code",
   "execution_count": 2,
   "metadata": {},
   "outputs": [
    {
     "name": "stderr",
     "output_type": "stream",
     "text": [
      "/home/ishan/Desktop/Python/llms-app/food-labels-gemini/.venv/lib/python3.10/site-packages/tqdm/auto.py:21: TqdmWarning: IProgress not found. Please update jupyter and ipywidgets. See https://ipywidgets.readthedocs.io/en/stable/user_install.html\n",
      "  from .autonotebook import tqdm as notebook_tqdm\n"
     ]
    },
    {
     "data": {
      "text/plain": [
       "True"
      ]
     },
     "execution_count": 2,
     "metadata": {},
     "output_type": "execute_result"
    }
   ],
   "source": [
    "from dotenv import load_dotenv\n",
    "from langchain_google_genai import ChatGoogleGenerativeAI\n",
    "\n",
    "load_dotenv()"
   ]
  },
  {
   "cell_type": "code",
   "execution_count": 3,
   "metadata": {},
   "outputs": [
    {
     "name": "stdout",
     "output_type": "stream",
     "text": [
      "**Ballad of LangChain**\n",
      "\n",
      "In realms of code, a tale unfolds,\n",
      "Of LangChain's might, a story untold.\n",
      "A language born of boundless dreams,\n",
      "A symphony of algorithms it seems.\n",
      "\n",
      "With tokens woven, a tapestry grand,\n",
      "LangChain weaves secrets, at its command.\n",
      "From GPT's depths to AI's embrace,\n",
      "It whispers knowledge, with grace and pace.\n",
      "\n",
      "Its syntax flows like a gentle stream,\n",
      "Unveiling insights, a waking dream.\n",
      "Embeddings dance, a cosmic ballet,\n",
      "Guiding thoughts, illuminating the way.\n",
      "\n",
      "Prometheus unbound, a fire it brings,\n",
      "Igniting minds, where inspiration sings.\n",
      "From prose to poetry, it paints the air,\n",
      "A canvas of words, beyond compare.\n",
      "\n",
      "But with great power, a cautionary call,\n",
      "For ethics guide, lest shadows fall.\n",
      "Bias and fairness, a delicate dance,\n",
      "LangChain's touch, a sobering trance.\n",
      "\n",
      "Yet still, it soars, a beacon bright,\n",
      "A tool for progress, a guiding light.\n",
      "In hands of wisdom, it transforms and shapes,\n",
      "A future where knowledge knows no capes.\n",
      "\n",
      "So let us sing the Ballad of LangChain,\n",
      "A language that empowers, again and again.\n",
      "May its verses echo, a timeless refrain,\n",
      "Of innovation, where dreams ignite with flame.\n"
     ]
    }
   ],
   "source": [
    "llm = ChatGoogleGenerativeAI(model=\"gemini-pro\")\n",
    "result = llm.invoke(\"Write a ballad about LangChain\")\n",
    "print(result.content)"
   ]
  },
  {
   "cell_type": "code",
   "execution_count": 5,
   "metadata": {},
   "outputs": [],
   "source": [
    "from PIL import Image\n",
    "\n",
    "# Open the image file\n",
    "file = open(\"images/images.jpeg\", \"rb\")\n",
    "image = Image.open(file)\n",
    "\n",
    "# Display the image\n",
    "image.show()"
   ]
  },
  {
   "cell_type": "code",
   "execution_count": 7,
   "metadata": {},
   "outputs": [
    {
     "data": {
      "text/plain": [
       "AIMessage(content=\" It's a bag of Lay's Chile Limon potato chips. The nutrition label shows that there are 150 calories in a serving and that the main ingredients are potatoes, vegetable oil, and salt.\", response_metadata={'prompt_feedback': {'block_reason': 0, 'safety_ratings': []}, 'finish_reason': 'STOP', 'safety_ratings': [{'category': 'HARM_CATEGORY_SEXUALLY_EXPLICIT', 'probability': 'NEGLIGIBLE', 'blocked': False}, {'category': 'HARM_CATEGORY_HATE_SPEECH', 'probability': 'NEGLIGIBLE', 'blocked': False}, {'category': 'HARM_CATEGORY_HARASSMENT', 'probability': 'NEGLIGIBLE', 'blocked': False}, {'category': 'HARM_CATEGORY_DANGEROUS_CONTENT', 'probability': 'NEGLIGIBLE', 'blocked': False}]}, id='run-d937110b-bd1a-41cd-be7f-6c90560fd70d-0')"
      ]
     },
     "execution_count": 7,
     "metadata": {},
     "output_type": "execute_result"
    }
   ],
   "source": [
    "from langchain_core.messages import HumanMessage\n",
    "from langchain_google_genai import ChatGoogleGenerativeAI\n",
    "\n",
    "llm = ChatGoogleGenerativeAI(model=\"gemini-pro-vision\")\n",
    "# example\n",
    "message = HumanMessage(\n",
    "    content=[\n",
    "        {\n",
    "            \"type\": \"text\",\n",
    "            \"text\": \"Extract the list of ingredients from the image below:\",\n",
    "        },  # You can optionally provide text parts\n",
    "        {\"type\": \"image_url\", \"image_url\": image},\n",
    "    ]\n",
    ")\n",
    "llm.invoke([message])"
   ]
  },
  {
   "cell_type": "code",
   "execution_count": null,
   "metadata": {},
   "outputs": [],
   "source": []
  }
 ],
 "metadata": {
  "kernelspec": {
   "display_name": ".venv",
   "language": "python",
   "name": "python3"
  },
  "language_info": {
   "codemirror_mode": {
    "name": "ipython",
    "version": 3
   },
   "file_extension": ".py",
   "mimetype": "text/x-python",
   "name": "python",
   "nbconvert_exporter": "python",
   "pygments_lexer": "ipython3",
   "version": "3.10.12"
  }
 },
 "nbformat": 4,
 "nbformat_minor": 2
}
