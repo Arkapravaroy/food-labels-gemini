{
 "cells": [
  {
   "cell_type": "code",
   "execution_count": 21,
   "metadata": {},
   "outputs": [
    {
     "data": {
      "text/plain": [
       "True"
      ]
     },
     "execution_count": 21,
     "metadata": {},
     "output_type": "execute_result"
    }
   ],
   "source": [
    "# Import the python modules\n",
    "from dotenv import load_dotenv\n",
    "from langchain_google_genai import ChatGoogleGenerativeAI\n",
    "from langchain_google_genai import GoogleGenerativeAIEmbeddings\n",
    "from langchain.prompts import PromptTemplate\n",
    "from langchain_community.document_loaders import PyPDFLoader\n",
    "from langchain_text_splitters import CharacterTextSplitter\n",
    "from langchain.chains.combine_documents import create_stuff_documents_chain\n",
    "from langchain.chains import create_retrieval_chain\n",
    "from langchain.vectorstores import Chroma\n",
    "from langchain_core.messages import HumanMessage, SystemMessage\n",
    "from PIL import Image, ImageOps\n",
    "\n",
    "load_dotenv()"
   ]
  },
  {
   "cell_type": "code",
   "execution_count": 22,
   "metadata": {},
   "outputs": [],
   "source": [
    "# Open the image file\n",
    "file = Image.open(\"images/lays_cropped.jpg\")\n",
    "image1 = ImageOps.grayscale(file)\n",
    "image1.show()\n",
    "\n",
    "\n",
    "file2 = Image.open(\"images/lays_magic_cropped.jpg\")\n",
    "image2 = ImageOps.grayscale(file2)\n",
    "image2.show()"
   ]
  },
  {
   "cell_type": "code",
   "execution_count": 23,
   "metadata": {},
   "outputs": [
    {
     "name": "stdout",
     "output_type": "stream",
     "text": [
      "Parse the nutritional information and the list of ingredients of the product shown in the image. \n",
      "\n",
      "Use the nutritional information/nutritional fact label to identify the quantity of the following items:\n",
      "Calories/Energy, Total Fat, Saturated Fat, Trans Fat, Cholesterol, Sodium, Total Carbohydrates, Dietary Fiber, Sugars, Protein, Vitamin A, Vitamin C, Calcium, and Iron.        \n",
      "If the item is not present in the image, please mention that the item is not present in the image.\n",
      "\n",
      "The output should contain only the nutritional information and the list of ingredients that is present on the product shown in the image. \n",
      "The output should be in a JSON format populated ONLY with the information that is available in the image. Make sure the JSON is valid and\n",
      "do not add any additional information that is not present in the image.\n",
      "\n",
      "Example of the output format:\n",
      "{\n",
      "    Nutritional information: {},\n",
      "    Ingredients: ['items1', 'item2', 'item3']\n",
      "}\n",
      "\n"
     ]
    }
   ],
   "source": [
    "# Open the file in read mode\n",
    "with open(\"src/prompts/label_prompt.txt\", \"r\") as f:\n",
    "    # Read the contents of the file\n",
    "    file_contents = f.read()\n",
    "\n",
    "\n",
    "print(file_contents)\n",
    "\n",
    "label_extraction_prompt = file_contents"
   ]
  },
  {
   "cell_type": "code",
   "execution_count": 6,
   "metadata": {},
   "outputs": [],
   "source": [
    "llm = ChatGoogleGenerativeAI(model=\"gemini-pro-vision\")\n",
    "\n",
    "# example\n",
    "message = HumanMessage(\n",
    "    content=[\n",
    "        {\n",
    "            \"type\": \"text\",\n",
    "            \"text\": label_extraction_prompt,\n",
    "        },\n",
    "        {\"type\": \"image_url\", \"image_url\": image2},\n",
    "    ]\n",
    ")\n",
    "\n",
    "response = llm.invoke([message])"
   ]
  },
  {
   "cell_type": "code",
   "execution_count": 7,
   "metadata": {},
   "outputs": [
    {
     "name": "stdout",
     "output_type": "stream",
     "text": [
      " ```JSON\n",
      "{\n",
      " \"Nutritional information\": {\n",
      "  \"Energy\": \"547 kCal\",\n",
      "  \"Total Fat\": \"35.7 g\",\n",
      "  \"Saturated Fat\": \"14.1 g\",\n",
      "  \"Trans Fat\": \"0.1 g\",\n",
      "  \"Cholesterol\": \"0 mg\",\n",
      "  \"Sodium\": \"942 mg\",\n",
      "  \"Total Carbohydrates\": \"47.6 g\",\n",
      "  \"Dietary Fiber\": \"Not Present\",\n",
      "  \"Sugars\": \"Not Present\",\n",
      "  \"Protein\": \"8.9 g\",\n",
      "  \"Vitamin A\": \"Not Present\",\n",
      "  \"Vitamin C\": \"Not Present\",\n",
      "  \"Calcium\": \"Not Present\",\n",
      "  \"Iron\": \"Not Present\"\n",
      " },\n",
      " \"Ingredients\": [\n",
      "  \"Potato\",\n",
      "  \"Edible Vegetable Oil\",\n",
      "  \"Palm Oil\",\n",
      "  \"Rice Bran Oil\",\n",
      "  \"Spices & Condiments\",\n",
      "  \"Onion Powder\",\n",
      "  \"Chilli Powder\",\n",
      "  \"Dried Mango Powder\",\n",
      "  \"Coriander Seed Powder\",\n",
      "  \"Ginger Powder\",\n",
      "  \"Garlic Powder\",\n",
      "  \"Black Pepper Powder\",\n",
      "  \"Cumin Powder\",\n",
      "  \"Turmeric Powder\",\n",
      "  \"Iodised Salt\",\n",
      "  \"Black Salt\",\n",
      "  \"Sugar\",\n",
      "  \"Tomato Puree\",\n",
      "  \"Citric Acid\",\n",
      "  \"Natural & Nature Identical Flavouring Substances\"\n",
      " ]\n",
      "}\n",
      "```\n"
     ]
    }
   ],
   "source": [
    "generated_text = response.content\n",
    "print(generated_text)"
   ]
  },
  {
   "cell_type": "code",
   "execution_count": 24,
   "metadata": {},
   "outputs": [],
   "source": [
    "#Load the models\n",
    "llm = ChatGoogleGenerativeAI(model=\"gemini-pro\")\n",
    "embeddings = GoogleGenerativeAIEmbeddings(model=\"models/embedding-001\")"
   ]
  },
  {
   "cell_type": "code",
   "execution_count": 25,
   "metadata": {},
   "outputs": [
    {
     "name": "stderr",
     "output_type": "stream",
     "text": [
      "Created a chunk of size 819, which is longer than the specified 250\n",
      "Created a chunk of size 261, which is longer than the specified 250\n",
      "Created a chunk of size 500, which is longer than the specified 250\n",
      "Created a chunk of size 342, which is longer than the specified 250\n"
     ]
    }
   ],
   "source": [
    "#Load the PDF and create chunks\n",
    "loader = PyPDFLoader(\"docs/Appendix-E3-1-Table-A4.pdf\")\n",
    "text_splitter = CharacterTextSplitter(\n",
    "    separator=\".\",\n",
    "    chunk_size=250,\n",
    "    chunk_overlap=50,\n",
    "    length_function=len,\n",
    "    is_separator_regex=False,\n",
    ")\n",
    "pages = loader.load_and_split(text_splitter)"
   ]
  },
  {
   "cell_type": "code",
   "execution_count": 27,
   "metadata": {},
   "outputs": [],
   "source": [
    "#Turn the chunks into embeddings and store them in Chroma\n",
    "vectordb=Chroma.from_documents(pages, embeddings)"
   ]
  },
  {
   "cell_type": "code",
   "execution_count": 34,
   "metadata": {},
   "outputs": [],
   "source": [
    "#Configure Chroma as a retriever with top_k=5\n",
    "retriever = vectordb.as_retriever(search_kwargs={\"k\": 10})"
   ]
  },
  {
   "cell_type": "code",
   "execution_count": 35,
   "metadata": {},
   "outputs": [
    {
     "name": "stdout",
     "output_type": "stream",
     "text": [
      "56g\n"
     ]
    }
   ],
   "source": [
    "#Create the retrieval chain\n",
    "template = \"\"\"\n",
    "You are a helpful AI assistant.\n",
    "Answer based on the context provided. \n",
    "context: {context}\n",
    "input: {input}\n",
    "answer:\n",
    "\"\"\"\n",
    "prompt = PromptTemplate.from_template(template)\n",
    "combine_docs_chain = create_stuff_documents_chain(llm, prompt)\n",
    "retrieval_chain = create_retrieval_chain(retriever, combine_docs_chain)\n",
    "\n",
    "#Invoke the retrieval chain\n",
    "response=retrieval_chain.invoke({\"input\":\"How amount of protien is recommended for a male between the age group 51+?\"})\n",
    "\n",
    "#Print the answer to the question\n",
    "print(response[\"answer\"])"
   ]
  },
  {
   "cell_type": "code",
   "execution_count": null,
   "metadata": {},
   "outputs": [],
   "source": []
  }
 ],
 "metadata": {
  "kernelspec": {
   "display_name": ".venv",
   "language": "python",
   "name": "python3"
  },
  "language_info": {
   "codemirror_mode": {
    "name": "ipython",
    "version": 3
   },
   "file_extension": ".py",
   "mimetype": "text/x-python",
   "name": "python",
   "nbconvert_exporter": "python",
   "pygments_lexer": "ipython3",
   "version": "3.10.12"
  }
 },
 "nbformat": 4,
 "nbformat_minor": 2
}
