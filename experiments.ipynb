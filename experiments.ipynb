{
 "cells": [
  {
   "cell_type": "code",
   "execution_count": 1,
   "metadata": {},
   "outputs": [
    {
     "name": "stdout",
     "output_type": "stream",
     "text": [
      "Hello\n"
     ]
    }
   ],
   "source": [
    "# agent.py\n",
    "from langchain import OpenAI\n",
    "from langchain.agents import create_pandas_dataframe_agent\n",
    "import pandas as pd\n",
    "\n",
    "# Setting up the api key\n",
    "import environ\n",
    "\n",
    "env = environ.Env()\n",
    "environ.Env.read_env()\n",
    "\n",
    "API_KEY = env(\"apikey\")\n",
    "\n",
    "\n",
    "def create_agent(filename: str):\n",
    "    \"\"\"\n",
    "    Create an agent that can access and use a large language model (LLM).\n",
    "\n",
    "    Args:\n",
    "        filename: The path to the CSV file that contains the data.\n",
    "\n",
    "    Returns:\n",
    "        An agent that can access and use the LLM.\n",
    "    \"\"\"\n",
    "\n",
    "    # Create an OpenAI object.\n",
    "    llm = OpenAI(openai_api_key=API_KEY)\n",
    "\n",
    "    # Read the CSV file into a Pandas DataFrame.\n",
    "    df = pd.read_csv(filename)\n",
    "\n",
    "    # Create a Pandas DataFrame agent.\n",
    "    return create_pandas_dataframe_agent(llm, df, verbose=False)"
   ]
  },
  {
   "cell_type": "code",
   "execution_count": null,
   "metadata": {},
   "outputs": [],
   "source": []
  }
 ],
 "metadata": {
  "kernelspec": {
   "display_name": ".venv",
   "language": "python",
   "name": "python3"
  },
  "language_info": {
   "codemirror_mode": {
    "name": "ipython",
    "version": 3
   },
   "file_extension": ".py",
   "mimetype": "text/x-python",
   "name": "python",
   "nbconvert_exporter": "python",
   "pygments_lexer": "ipython3",
   "version": "3.10.12"
  }
 },
 "nbformat": 4,
 "nbformat_minor": 2
}
